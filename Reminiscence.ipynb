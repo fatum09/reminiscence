{
 "cells": [
  {
   "cell_type": "markdown",
   "metadata": {},
   "source": [
    "Данный блокнот содержит все имеющиеся на текущий момент сведения по работе над датасетом первых воспоминаний 'reminiscence'.\n",
    "\n",
    "Вопросы исследования\n",
    "\n",
    "Черновой план дальнейшей работы:\n",
    "- Сформулировать чем могут быть полезны тексты с такой разбивкой для других примеров, как иначе использовать датасет\n",
    "- Отсортировать идеи из этого списка - по максимуму реализовать в виде разделов\n",
    "- Проверка опечаток в записях -- какие существуют инструменты проверки орфографии из Python или Jupyter?\n",
    "- Переделать \"мама, папа\" на \"мать, отец\" - в представлении данных\n",
    "- Сравнить упоминания \"мама, папа\" и \"родители\"\n",
    "- Отследить сущность \"солнце\", \"солнечный свет\", \"искусственный свет\", мотив света\n",
    "- Построение распределения возрастов всех воспоминаний (не минимальных)\n",
    "- Сколько предложений в среднем приходится на одно воспоминание?\n",
    "- Инструмент для объектов вида \"объект (общая группа объектов)\"\n",
    "- Было бы удобно, если бы исходный датафрейм был глобальной переменной\n",
    "- Функция определения близости воспоминаний (NLP, ML)\n",
    "- Преобразовать отображение чисел в возрастах к единообразному\n",
    "- Инструмент для представления исходных данных и обработанных в верстке удобной для публикации в pdf (LaTeX), в виде статьи на Medium, в fb2, epub-форматах с заголовками и содержанием\n",
    "- Сделать переводную версию\n",
    "- Преобразование в pandas строковых значений чисел в числовые\n",
    "- Инструмент перечисления номеров воспоминаний, в которых не заполнено переданное поле\n",
    "- Распределения записей по числовым параметрам:\n",
    "    - Возраст (общий инструмент для разных граф - с целью построения корреляций). Для пары \"возраст-воспоминание\" имеет смысл построить распределения самых ранних воспоминаний, если указан диапазон - то указывать среднюю точку с интервалом (необходимо найти подходящий тип визуализации)\n",
    "    - Активное-пассивное\n",
    "    - Доли воспоминаний с упоминанием параметра (цвет, ...)\n",
    "    - Соотношение между полами\n",
    "    - Наличие/отсутствие лиц и вообще инструмент заполненности поля (сколько символов \"-\" и сколько заполненных)\n",
    "- Инструменты визуализации статистических распределений - лучшее представление\n",
    "- pymorphy: частотное распределение слов, приведенных к нормальной форме, разбивать составные воспоминания по отступу в виде одной строки или специальному символу. Отношение между частями речи. Что преобладает в коротких воспоминаниях? Анализ по парам младший/старший, мама/пара, бабушка/дедушка.\n",
    "- pymorhy:\n",
    "    - Выделение в нормальной форме всех частей речи, построение распределений для каждой части речи по общему массиву\n",
    "    - Выделение всех корней\n",
    "- Сопоставление отец-папа, мама и папа-родители (совместность).\n",
    "- Продумать процесс работы с ячейками перевода воспоминаний\n",
    "- Функция генерации текста из чередующихся \"малых\" и \"крупных\" воспоминаний для облегчения чтения в виде текста"
   ]
  },
  {
   "cell_type": "markdown",
   "metadata": {},
   "source": [
    "# Считывание данных из Google Sheet"
   ]
  },
  {
   "cell_type": "markdown",
   "metadata": {},
   "source": [
    "Набор данных оформлен [в виде электронной таблицы на Google Drive](https://docs.google.com/spreadsheets/d/1KSirtO9hZSmVst--GiqsBPYk6hX-xOCI-SolgiafjcI/edit?usp=sharing). Доступ к Google Sheets API осуществляется в соответствии с [документацией API для Python](https://developers.google.com/sheets/api/quickstart/python)."
   ]
  },
  {
   "cell_type": "markdown",
   "metadata": {},
   "source": [
    "Импортируем данные учетной записи и преобразуем в объект Pandas:"
   ]
  },
  {
   "cell_type": "code",
   "execution_count": 1,
   "metadata": {},
   "outputs": [],
   "source": [
    "%matplotlib inline\n",
    "\n",
    "import json\n",
    "import os.path\n",
    "import pickle       # для хранения токенов\n",
    "import pandas as pd\n",
    "import matplotlib\n",
    "    \n",
    "from googleapiclient.discovery import build\n",
    "from google_auth_oauthlib.flow import InstalledAppFlow\n",
    "from google.auth.transport.requests import Request\n",
    "\n",
    "SCOPES = ['https://www.googleapis.com/auth/spreadsheets.readonly']\n",
    "SPREADSHEET_ID = '1KSirtO9hZSmVst--GiqsBPYk6hX-xOCI-SolgiafjcI' # id гугл-таблицы\n",
    "RANGE_NAME = 'Memories' # Забираем лист целиком диапазон"
   ]
  },
  {
   "cell_type": "code",
   "execution_count": 2,
   "metadata": {},
   "outputs": [],
   "source": [
    "def get_data():\n",
    "    \"\"\"Авторизует и забирает данные из Google SpreadSheet\"\"\"\n",
    "    creds = None\n",
    "    if os.path.exists('token.pickle'):\n",
    "        with open('token.pickle', 'rb') as token:\n",
    "            creds = pickle.load(token)\n",
    "    if not creds or not creds.valid:\n",
    "        if creds and creds.expired and creds.refresh_token:\n",
    "            creds.refresh(Request())\n",
    "        else:\n",
    "            flow = InstalledAppFlow.from_client_secrets_file('credentials.json', SCOPES)\n",
    "            creds = flow.run_local_server(port=0)\n",
    "        with open('token.pickle', 'wb') as token:\n",
    "            pickle.dump(creds, token)\n",
    "\n",
    "    service = build('sheets', 'v4', credentials=creds)\n",
    "\n",
    "    sheet = service.spreadsheets()\n",
    "    result = sheet.values().get(spreadsheetId=SPREADSHEET_ID, range=RANGE_NAME).execute()\n",
    "    values = result.get('values', [])\n",
    "\n",
    "    if not values:\n",
    "        print('No data found.')\n",
    "    \n",
    "    return values"
   ]
  },
  {
   "cell_type": "markdown",
   "metadata": {},
   "source": [
    "## Обработка данных в Pandas\n",
    "\n",
    "Создаем датафрейм. Удаляем те строки, что не относятся к датасету (комментарии в конце файла)"
   ]
  },
  {
   "cell_type": "code",
   "execution_count": 3,
   "metadata": {},
   "outputs": [],
   "source": [
    "def get_df():\n",
    "    data = get_data()\n",
    "    df = pd.DataFrame.from_records(data)\n",
    "    headers = df.iloc[0]  # Названия столбцов содержатся в нулевой строке таблицы\n",
    "    df = pd.DataFrame(df.values[1:], columns=headers)\n",
    "    df = df.set_index('№') # Номер строки соответствует номеру воспоминания\n",
    "    \n",
    "    # Пока не рассматриваются переводные записи. Комментарии используются лишь как заметки\n",
    "    df = df.drop(columns=['Name', 'Translation', 'Translation footnote', 'Комментарий'])\n",
    "    \n",
    "    # Добавим столбец подсчета числа символов, из которых состоит запись.\n",
    "    df ['Число символов'] = df['Воспоминание'].apply(lambda x: len(x))\n",
    "    \n",
    "    return df"
   ]
  },
  {
   "cell_type": "markdown",
   "metadata": {},
   "source": [
    "Для обзора датасета создадим функции подсчета числа пустых ячеек определенного поля, а также вывода необработанной части датасета в порядке возрастания объема записи."
   ]
  },
  {
   "cell_type": "code",
   "execution_count": 4,
   "metadata": {
    "scrolled": true
   },
   "outputs": [],
   "source": [
    "def col_empty_cells(df, col_name:str):\n",
    "    \"\"\"Находит пустые и NoneType ячейки столбца с именем col_name\"\"\"\n",
    "    none_cells = df[col_name][~df[col_name].notna()].index\n",
    "    empty_cells = df[col_name][df[col_name]==''].index\n",
    "    ids = sorted(list(set(none_cells) | set(empty_cells)))\n",
    "    return ids\n",
    "\n",
    "#! Откорректировать так, чтобы учитывались одиночные пустые ячейки\n",
    "def percent_line():\n",
    "    \"\"\"Определяет долю полностью обработанных записей, не содержащие пустых строк во всех полях,\n",
    "    за исключением графы Комментарий. Выводятся строки, в порядке возрастания объема воспоминания\"\"\"\n",
    "    # отбираем записи, содержащие не более 1 пустой графы - обычно это графа комментарий \n",
    "    df = get_df()\n",
    "    df_not_ready = df[df.apply(lambda x: x.isnull().sum(), axis='columns') != 0]\n",
    "    p = 100*(1-len(df_not_ready)/len(df))\n",
    "    print(\"Осталось обработать записей: {0}, подготовлено {1:.1f}% датасета.\".format(len(df_not_ready), p))\n",
    "    return df_not_ready.sort_values(by='Число символов').head(10)"
   ]
  },
  {
   "cell_type": "code",
   "execution_count": 16,
   "metadata": {
    "scrolled": false
   },
   "outputs": [
    {
     "name": "stdout",
     "output_type": "stream",
     "text": [
      "Осталось обработать записей: 118, подготовлено 81.7% датасета.\n"
     ]
    },
    {
     "data": {
      "text/html": [
       "<div>\n",
       "<style scoped>\n",
       "    .dataframe tbody tr th:only-of-type {\n",
       "        vertical-align: middle;\n",
       "    }\n",
       "\n",
       "    .dataframe tbody tr th {\n",
       "        vertical-align: top;\n",
       "    }\n",
       "\n",
       "    .dataframe thead th {\n",
       "        text-align: right;\n",
       "    }\n",
       "</style>\n",
       "<table border=\"1\" class=\"dataframe\">\n",
       "  <thead>\n",
       "    <tr style=\"text-align: right;\">\n",
       "      <th></th>\n",
       "      <th>Имя</th>\n",
       "      <th>Воспоминание</th>\n",
       "      <th>Пол</th>\n",
       "      <th>Кол-во</th>\n",
       "      <th>Возраст</th>\n",
       "      <th>Ориентир возраста</th>\n",
       "      <th>Мотив</th>\n",
       "      <th>Лица</th>\n",
       "      <th>Предметы</th>\n",
       "      <th>Цвета</th>\n",
       "      <th>Звуки</th>\n",
       "      <th>Запахи, вкус</th>\n",
       "      <th>Другие ощущения</th>\n",
       "      <th>Сущности</th>\n",
       "      <th>Пространство</th>\n",
       "      <th>Время дня</th>\n",
       "      <th>Время года</th>\n",
       "      <th>Поведение</th>\n",
       "      <th>Число символов</th>\n",
       "    </tr>\n",
       "    <tr>\n",
       "      <th>№</th>\n",
       "      <th></th>\n",
       "      <th></th>\n",
       "      <th></th>\n",
       "      <th></th>\n",
       "      <th></th>\n",
       "      <th></th>\n",
       "      <th></th>\n",
       "      <th></th>\n",
       "      <th></th>\n",
       "      <th></th>\n",
       "      <th></th>\n",
       "      <th></th>\n",
       "      <th></th>\n",
       "      <th></th>\n",
       "      <th></th>\n",
       "      <th></th>\n",
       "      <th></th>\n",
       "      <th></th>\n",
       "      <th></th>\n",
       "    </tr>\n",
       "  </thead>\n",
       "  <tbody>\n",
       "    <tr>\n",
       "      <th>476</th>\n",
       "      <td>Майк (финн)</td>\n",
       "      <td></td>\n",
       "      <td>м</td>\n",
       "      <td></td>\n",
       "      <td>3-4</td>\n",
       "      <td>None</td>\n",
       "      <td>None</td>\n",
       "      <td>None</td>\n",
       "      <td>None</td>\n",
       "      <td>None</td>\n",
       "      <td>None</td>\n",
       "      <td>None</td>\n",
       "      <td>None</td>\n",
       "      <td>None</td>\n",
       "      <td>None</td>\n",
       "      <td>None</td>\n",
       "      <td>None</td>\n",
       "      <td>None</td>\n",
       "      <td>0</td>\n",
       "    </tr>\n",
       "    <tr>\n",
       "      <th>406</th>\n",
       "      <td>Маша</td>\n",
       "      <td>Мне было, кажется, полтора года, мы жили на да...</td>\n",
       "      <td>ж</td>\n",
       "      <td>1</td>\n",
       "      <td>1.5</td>\n",
       "      <td>None</td>\n",
       "      <td>None</td>\n",
       "      <td>None</td>\n",
       "      <td>None</td>\n",
       "      <td>None</td>\n",
       "      <td>None</td>\n",
       "      <td>None</td>\n",
       "      <td>None</td>\n",
       "      <td>None</td>\n",
       "      <td>None</td>\n",
       "      <td>None</td>\n",
       "      <td>None</td>\n",
       "      <td>None</td>\n",
       "      <td>203</td>\n",
       "    </tr>\n",
       "    <tr>\n",
       "      <th>389</th>\n",
       "      <td>-</td>\n",
       "      <td>Первое воспоминание - моя детская кроватка. Я ...</td>\n",
       "      <td>ж</td>\n",
       "      <td>1</td>\n",
       "      <td>3</td>\n",
       "      <td>None</td>\n",
       "      <td>None</td>\n",
       "      <td>None</td>\n",
       "      <td>None</td>\n",
       "      <td>None</td>\n",
       "      <td>None</td>\n",
       "      <td>None</td>\n",
       "      <td>None</td>\n",
       "      <td>None</td>\n",
       "      <td>None</td>\n",
       "      <td>None</td>\n",
       "      <td>None</td>\n",
       "      <td>None</td>\n",
       "      <td>203</td>\n",
       "    </tr>\n",
       "    <tr>\n",
       "      <th>273</th>\n",
       "      <td>Мирон</td>\n",
       "      <td>Мне кажется, это года три или четыре, мой день...</td>\n",
       "      <td>м</td>\n",
       "      <td>1</td>\n",
       "      <td>3-4</td>\n",
       "      <td>None</td>\n",
       "      <td>None</td>\n",
       "      <td>None</td>\n",
       "      <td>None</td>\n",
       "      <td>None</td>\n",
       "      <td>None</td>\n",
       "      <td>None</td>\n",
       "      <td>None</td>\n",
       "      <td>None</td>\n",
       "      <td>None</td>\n",
       "      <td>None</td>\n",
       "      <td>None</td>\n",
       "      <td>None</td>\n",
       "      <td>211</td>\n",
       "    </tr>\n",
       "    <tr>\n",
       "      <th>244</th>\n",
       "      <td>Неля</td>\n",
       "      <td>Четыре-пять лет. Я в детском саду утром смотре...</td>\n",
       "      <td>ж</td>\n",
       "      <td></td>\n",
       "      <td></td>\n",
       "      <td></td>\n",
       "      <td></td>\n",
       "      <td>мама</td>\n",
       "      <td>None</td>\n",
       "      <td>None</td>\n",
       "      <td>None</td>\n",
       "      <td>None</td>\n",
       "      <td>None</td>\n",
       "      <td>None</td>\n",
       "      <td>None</td>\n",
       "      <td>None</td>\n",
       "      <td>None</td>\n",
       "      <td>None</td>\n",
       "      <td>214</td>\n",
       "    </tr>\n",
       "    <tr>\n",
       "      <th>361</th>\n",
       "      <td>Лера</td>\n",
       "      <td>Я лежу где-то, где тепло и солнечно, на коже с...</td>\n",
       "      <td>ж</td>\n",
       "      <td>1</td>\n",
       "      <td>None</td>\n",
       "      <td>None</td>\n",
       "      <td>None</td>\n",
       "      <td>None</td>\n",
       "      <td>None</td>\n",
       "      <td>None</td>\n",
       "      <td>None</td>\n",
       "      <td>None</td>\n",
       "      <td>None</td>\n",
       "      <td>None</td>\n",
       "      <td>None</td>\n",
       "      <td>None</td>\n",
       "      <td>None</td>\n",
       "      <td>None</td>\n",
       "      <td>216</td>\n",
       "    </tr>\n",
       "    <tr>\n",
       "      <th>313</th>\n",
       "      <td>Денис</td>\n",
       "      <td>Когда меня завернутого в одеяльце, ну как дето...</td>\n",
       "      <td>м</td>\n",
       "      <td>1</td>\n",
       "      <td>None</td>\n",
       "      <td>None</td>\n",
       "      <td>None</td>\n",
       "      <td>None</td>\n",
       "      <td>None</td>\n",
       "      <td>None</td>\n",
       "      <td>None</td>\n",
       "      <td>None</td>\n",
       "      <td>None</td>\n",
       "      <td>None</td>\n",
       "      <td>None</td>\n",
       "      <td>None</td>\n",
       "      <td>None</td>\n",
       "      <td>None</td>\n",
       "      <td>239</td>\n",
       "    </tr>\n",
       "    <tr>\n",
       "      <th>269</th>\n",
       "      <td>Олег</td>\n",
       "      <td>Отец подарил мне кусочек металлической цепочки...</td>\n",
       "      <td>м</td>\n",
       "      <td>1</td>\n",
       "      <td>None</td>\n",
       "      <td>None</td>\n",
       "      <td>None</td>\n",
       "      <td>None</td>\n",
       "      <td>None</td>\n",
       "      <td>None</td>\n",
       "      <td>None</td>\n",
       "      <td>None</td>\n",
       "      <td>None</td>\n",
       "      <td>None</td>\n",
       "      <td>None</td>\n",
       "      <td>None</td>\n",
       "      <td>None</td>\n",
       "      <td>None</td>\n",
       "      <td>242</td>\n",
       "    </tr>\n",
       "    <tr>\n",
       "      <th>315</th>\n",
       "      <td>Лёша</td>\n",
       "      <td>Это было в Казахстане. Когда умер дед, перед п...</td>\n",
       "      <td>м</td>\n",
       "      <td>1</td>\n",
       "      <td>None</td>\n",
       "      <td>None</td>\n",
       "      <td>None</td>\n",
       "      <td>None</td>\n",
       "      <td>None</td>\n",
       "      <td>None</td>\n",
       "      <td>None</td>\n",
       "      <td>None</td>\n",
       "      <td>None</td>\n",
       "      <td>None</td>\n",
       "      <td>None</td>\n",
       "      <td>None</td>\n",
       "      <td>None</td>\n",
       "      <td>None</td>\n",
       "      <td>249</td>\n",
       "    </tr>\n",
       "    <tr>\n",
       "      <th>360</th>\n",
       "      <td>Юля</td>\n",
       "      <td>Полтора-два года, лето или теплая весна. Я сиж...</td>\n",
       "      <td>ж</td>\n",
       "      <td>1</td>\n",
       "      <td></td>\n",
       "      <td></td>\n",
       "      <td></td>\n",
       "      <td>мама</td>\n",
       "      <td></td>\n",
       "      <td></td>\n",
       "      <td></td>\n",
       "      <td></td>\n",
       "      <td></td>\n",
       "      <td></td>\n",
       "      <td></td>\n",
       "      <td></td>\n",
       "      <td>весна</td>\n",
       "      <td>None</td>\n",
       "      <td>258</td>\n",
       "    </tr>\n",
       "  </tbody>\n",
       "</table>\n",
       "</div>"
      ],
      "text/plain": [
       "0            Имя                                       Воспоминание Пол  \\\n",
       "№                                                                         \n",
       "476  Майк (финн)                                                      м   \n",
       "406         Маша  Мне было, кажется, полтора года, мы жили на да...   ж   \n",
       "389            -  Первое воспоминание - моя детская кроватка. Я ...   ж   \n",
       "273        Мирон  Мне кажется, это года три или четыре, мой день...   м   \n",
       "244         Неля  Четыре-пять лет. Я в детском саду утром смотре...   ж   \n",
       "361         Лера  Я лежу где-то, где тепло и солнечно, на коже с...   ж   \n",
       "313        Денис  Когда меня завернутого в одеяльце, ну как дето...   м   \n",
       "269         Олег  Отец подарил мне кусочек металлической цепочки...   м   \n",
       "315         Лёша  Это было в Казахстане. Когда умер дед, перед п...   м   \n",
       "360          Юля  Полтора-два года, лето или теплая весна. Я сиж...   ж   \n",
       "\n",
       "0   Кол-во Возраст Ориентир возраста Мотив  Лица Предметы Цвета Звуки  \\\n",
       "№                                                                       \n",
       "476            3-4              None  None  None     None  None  None   \n",
       "406      1     1.5              None  None  None     None  None  None   \n",
       "389      1       3              None  None  None     None  None  None   \n",
       "273      1     3-4              None  None  None     None  None  None   \n",
       "244                                         мама     None  None  None   \n",
       "361      1    None              None  None  None     None  None  None   \n",
       "313      1    None              None  None  None     None  None  None   \n",
       "269      1    None              None  None  None     None  None  None   \n",
       "315      1    None              None  None  None     None  None  None   \n",
       "360      1                                  мама                        \n",
       "\n",
       "0   Запахи, вкус Другие ощущения Сущности Пространство Время дня Время года  \\\n",
       "№                                                                             \n",
       "476         None            None     None         None      None       None   \n",
       "406         None            None     None         None      None       None   \n",
       "389         None            None     None         None      None       None   \n",
       "273         None            None     None         None      None       None   \n",
       "244         None            None     None         None      None       None   \n",
       "361         None            None     None         None      None       None   \n",
       "313         None            None     None         None      None       None   \n",
       "269         None            None     None         None      None       None   \n",
       "315         None            None     None         None      None       None   \n",
       "360                                                                   весна   \n",
       "\n",
       "0   Поведение  Число символов  \n",
       "№                              \n",
       "476      None               0  \n",
       "406      None             203  \n",
       "389      None             203  \n",
       "273      None             211  \n",
       "244      None             214  \n",
       "361      None             216  \n",
       "313      None             239  \n",
       "269      None             242  \n",
       "315      None             249  \n",
       "360      None             258  "
      ]
     },
     "execution_count": 16,
     "metadata": {},
     "output_type": "execute_result"
    }
   ],
   "source": [
    "percent_line()"
   ]
  },
  {
   "cell_type": "markdown",
   "metadata": {},
   "source": [
    "# Функции предварительной обработки набора данных"
   ]
  },
  {
   "cell_type": "code",
   "execution_count": 6,
   "metadata": {},
   "outputs": [],
   "source": [
    "df = get_df()"
   ]
  },
  {
   "cell_type": "code",
   "execution_count": 7,
   "metadata": {},
   "outputs": [
    {
     "name": "stdout",
     "output_type": "stream",
     "text": [
      "Число дублирующихся записей в датасете: 0.\n"
     ]
    }
   ],
   "source": [
    "#! поиск дубликатов\n",
    "print('Число дублирующихся записей в датасете: {}.'.format(len(df[df.duplicated()==True])))"
   ]
  },
  {
   "cell_type": "markdown",
   "metadata": {},
   "source": [
    "# Исследование распределений\n",
    "\n",
    "Полностью заполнена лишь графа, содержащая текст воспоминания. Для указания того, что в тексте воспоминания не имеется дополнительной информации, указывает знак \"-\" (минус). Для анализа полноты используется функция `minus_or_smth_dstrb`."
   ]
  },
  {
   "cell_type": "code",
   "execution_count": 8,
   "metadata": {},
   "outputs": [],
   "source": [
    "def minus_or_smth(col_name: str):\n",
    "    \"\"\"Выводит число пустых ячеек, ячеек с символом минус и ячеек, содержащих информацию\"\"\"\n",
    "    df = get_df()\n",
    "    empty_cell_ids = col_empty_cells(df, col_name)\n",
    "    print('Число пустых ячеек: {}.'.format(len(empty_cell_ids)))\n",
    "    df_essential = df.drop(empty_cell_ids)\n",
    "    column_essential = df_essential[col_name]\n",
    "    minus_cell_ids = column_essential[column_essential=='-'] \n",
    "    print('Число записей, не содержащих информации про {}: {}.'.format(col_name.lower(), len(minus_cell_ids)))\n",
    "    plus_cell_ids = column_essential[column_essential!='-']\n",
    "    print('Число записей, содержащих информацию про {}: {}.'.format(col_name.lower(), len(plus_cell_ids)))\n",
    "    return empty_cell_ids, minus_cell_ids, plus_cell_ids"
   ]
  },
  {
   "cell_type": "markdown",
   "metadata": {},
   "source": [
    "## Распределение объема воспоминаний\n",
    "- по числу воспоминаний в записи\n",
    "- по числу символов, слов, предложений\n",
    "- по числу предложений, приходящихся на одно воспоминание\n",
    "\n",
    "## Гендерное распределение\n",
    "- "
   ]
  },
  {
   "cell_type": "code",
   "execution_count": null,
   "metadata": {},
   "outputs": [],
   "source": []
  },
  {
   "cell_type": "markdown",
   "metadata": {},
   "source": [
    "## Распределение возраста\n",
    "\n",
    "Возраста приводятся в форме приблизительного или точного (при соотнесении с событием) возраста, либо интервала. Интервалы в формате `начало диапазона-конец диапазона` приводим в форму двух чисел. Также имеются описания в которых используются не отрезки, а \"лучи\" времени (например, \"не позже пяти\", \"после трех лет\"). Все виды записей возраста представляются в виде списка словарей с ключами `float`, `range`, `more`, `less`."
   ]
  },
  {
   "cell_type": "code",
   "execution_count": 9,
   "metadata": {},
   "outputs": [],
   "source": [
    "#! некорректно обрабатывается строка вида '0.41-0.58; <1'\n",
    "def age(age_str:'str'):\n",
    "    '''Возвращает список разбитых на категории возрастов воспоминаний'''\n",
    "    list_of_ages = []\n",
    "    \n",
    "    def age_float(s:'str'):\n",
    "        list_of_ages.append({'float': float(s)})\n",
    "    \n",
    "    def age_range(s:'str'):\n",
    "        r = [float(item) for item in s.split('-')]\n",
    "        list_of_ages.append({'range': r})\n",
    "        \n",
    "    def age_not_single(s:str):\n",
    "        if '-' in s:\n",
    "            age_range(s)\n",
    "        elif '<' in s:\n",
    "            list_of_ages.append({'less': float(s[1:])})\n",
    "        elif '>' in s:\n",
    "            list_of_ages.append({'more': float(s[1:])})\n",
    "        else:\n",
    "            age_float(s)\n",
    "    \n",
    "    try:\n",
    "        age_float(age_str)\n",
    "    except ValueError:  #!! здесь блоки лучше заменить рекурсией или вызовом функции\n",
    "        if ';' in age_str:\n",
    "            for s in age_str.split(';'):\n",
    "                age_not_single(s)\n",
    "        else:\n",
    "            age_not_single(age_str)\n",
    "    \n",
    "    return list_of_ages"
   ]
  },
  {
   "cell_type": "code",
   "execution_count": 10,
   "metadata": {},
   "outputs": [
    {
     "name": "stdout",
     "output_type": "stream",
     "text": [
      "Число пустых ячеек: 58.\n",
      "Число записей, не содержащих информации про возраст: 66.\n",
      "Число записей, содержащих информацию про возраст: 520.\n"
     ]
    }
   ],
   "source": [
    "df = get_df()\n",
    "age_df = df.loc[minus_or_smth('Возраст')[2].index]\n",
    "age_df['age'] = age_df['Возраст'].apply(lambda x: age(x))\n",
    "\n",
    "def age_dst_rough(age_list:list):\n",
    "    '''Метод грубого разбиения возрастов:\n",
    "    для диапазона используются средние значения интервалов,\n",
    "    для лучевых отрезков (больше, меньше) - крайние точки'''\n",
    "    age_rough_list = []\n",
    "    for d in age_list:\n",
    "        if 'float' in d:\n",
    "            age = d['float']\n",
    "        elif 'range' in d:\n",
    "            age = sum(d['range'])/2\n",
    "        elif 'less' in d:\n",
    "            age = d['less']\n",
    "        elif 'more' in d:\n",
    "            age = d['more']\n",
    "        else:\n",
    "            age = None\n",
    "        age_rough_list.append(age)\n",
    "    return age_rough_list\n",
    "\n",
    "# грубое разбиение возрастов\n",
    "age_df['age'].apply(lambda x: age_dst_rough(x))\n",
    "\n",
    "# минимальный возраст среди нескольких воспоминаний\n",
    "age_df['min_age'] = age_df['age'].apply(lambda x: min(age_dst_rough(x)))"
   ]
  },
  {
   "cell_type": "code",
   "execution_count": 11,
   "metadata": {},
   "outputs": [
    {
     "data": {
      "text/plain": [
       "<Figure size 640x480 with 1 Axes>"
      ]
     },
     "metadata": {},
     "output_type": "display_data"
    }
   ],
   "source": [
    "import matplotlib.pyplot as plt\n",
    "\n",
    "plt.title('Распределение минимального возраста воспоминаний')\n",
    "plt.xticks(range(0, 9))\n",
    "plt.xlabel('Возраст, лет')\n",
    "plt.ylabel('Число записей с минимальным возрастом')\n",
    "plt.hist(age_df['min_age'], bins=20)\n",
    "plt.show()"
   ]
  },
  {
   "cell_type": "markdown",
   "metadata": {},
   "source": [
    "## Распределение числа воспоминаний в записях"
   ]
  },
  {
   "cell_type": "code",
   "execution_count": null,
   "metadata": {},
   "outputs": [],
   "source": []
  },
  {
   "cell_type": "markdown",
   "metadata": {},
   "source": [
    "## Распределение числа символов в записях"
   ]
  },
  {
   "cell_type": "code",
   "execution_count": null,
   "metadata": {},
   "outputs": [],
   "source": []
  },
  {
   "cell_type": "markdown",
   "metadata": {},
   "source": [
    "## Среднее, минимальное и максимальное число символов, приходящееся на одно воспоминание"
   ]
  },
  {
   "cell_type": "code",
   "execution_count": null,
   "metadata": {},
   "outputs": [],
   "source": []
  },
  {
   "cell_type": "markdown",
   "metadata": {},
   "source": [
    "# Обработка текстуальной составляющей\n",
    "\n",
    "[Документация pymorphy2](https://pymorphy2.readthedocs.io/en/latest/user/index.html)"
   ]
  },
  {
   "cell_type": "code",
   "execution_count": 12,
   "metadata": {},
   "outputs": [],
   "source": [
    "import pymorphy2\n",
    "morph = pymorphy2.MorphAnalyzer()"
   ]
  },
  {
   "cell_type": "markdown",
   "metadata": {},
   "source": [
    "## В каком времени написаны воспоминания? Прошедшем или настоящем? То есть с взглядом из текущего времени или с эмоциональным погружением в ситуацию?\n",
    "\n",
    "Для этого можно рассмотреть время глаголов воспоминаний. В грубом приближении достаточно ориентироваться на, глаголы какого времени преобладают – настоящего или прошедшего."
   ]
  },
  {
   "cell_type": "markdown",
   "metadata": {},
   "source": [
    "# Генерация latex для верстки pdf "
   ]
  },
  {
   "cell_type": "code",
   "execution_count": null,
   "metadata": {},
   "outputs": [],
   "source": []
  }
 ],
 "metadata": {
  "kernelspec": {
   "display_name": "Python 3",
   "language": "python",
   "name": "python3"
  },
  "language_info": {
   "codemirror_mode": {
    "name": "ipython",
    "version": 3
   },
   "file_extension": ".py",
   "mimetype": "text/x-python",
   "name": "python",
   "nbconvert_exporter": "python",
   "pygments_lexer": "ipython3",
   "version": "3.6.9"
  }
 },
 "nbformat": 4,
 "nbformat_minor": 2
}
