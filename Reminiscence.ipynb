{
 "cells": [
  {
   "cell_type": "markdown",
   "metadata": {},
   "source": [
    "Данный блокнот содержит все имеющиеся сведения по работе над датасетом первых воспоминаний.\n",
    "\n",
    "Черновой план дальнейшей работы:\n",
    "- Инструмент для представления исходных данных и обработанных в верстке удобной для публикации в pdf (LaTeX), в виде статьи на Medium\n",
    "- Описать подробнее в MarkDown файле - две ссылки - на источник и сам опрос, перечислить какие поля содержит датасет\n",
    "- Сделать переводную версию\n",
    "- Объединить функции для удобного обновления данных при внесении исправлении в таблицу\n",
    "- Преобразование в pandas строковых значений чисел в числовые\n",
    "- Инструмент перечисления номеров воспоминаний, в которых не заполнено переданное поле\n",
    "- Инструмент оценки полноты датафрейма с рекомендациями работы над датафреймом\n",
    "- Инструменты визуализации статистических распределений\n",
    "- Использовать https://github.com/natasha/natasha и pymorphy\n",
    "- pymorphy: какое время используется у глаголов, частотное распределение слов, приведенных к нормальной форме, разбивать составные воспоминания по отступ в виде одной строки или специальному символу. Отношение между частями речи. Что преобладает в коротких воспоминаниях? Анализ по парам младший/старший, мама/пара, бабушка/дедушка."
   ]
  },
  {
   "cell_type": "markdown",
   "metadata": {},
   "source": [
    "# Считывание данных из Google Sheet"
   ]
  },
  {
   "cell_type": "markdown",
   "metadata": {},
   "source": [
    "Набор данных оформлен [в виде электронной таблицы на Google Drive](https://docs.google.com/spreadsheets/d/1KSirtO9hZSmVst--GiqsBPYk6hX-xOCI-SolgiafjcI/edit?usp=sharing). Доступ к Google Sheets API осуществляется в соответствии с [документацией API для Python](https://developers.google.com/sheets/api/quickstart/python)."
   ]
  },
  {
   "cell_type": "markdown",
   "metadata": {},
   "source": [
    "Импортируем данные учетной записи и преобразуем в объект Pandas:"
   ]
  },
  {
   "cell_type": "code",
   "execution_count": 1,
   "metadata": {},
   "outputs": [],
   "source": [
    "import json\n",
    "import os.path\n",
    "import pickle       # для хранения токенов\n",
    "import pandas as pd\n",
    "    \n",
    "from googleapiclient.discovery import build\n",
    "from google_auth_oauthlib.flow import InstalledAppFlow\n",
    "from google.auth.transport.requests import Request\n",
    "\n",
    "SCOPES = ['https://www.googleapis.com/auth/spreadsheets.readonly']\n",
    "SPREADSHEET_ID = '1KSirtO9hZSmVst--GiqsBPYk6hX-xOCI-SolgiafjcI' # id гугл-таблицы\n",
    "RANGE_NAME = 'Memories' # Забираем лист целиком диапазон"
   ]
  },
  {
   "cell_type": "code",
   "execution_count": 2,
   "metadata": {},
   "outputs": [],
   "source": [
    "def get_data():\n",
    "    \"\"\"Авторизует и забирает данные из Google SpreadSheet\"\"\"\n",
    "    creds = None\n",
    "    if os.path.exists('token.pickle'):\n",
    "        with open('token.pickle', 'rb') as token:\n",
    "            creds = pickle.load(token)\n",
    "    if not creds or not creds.valid:\n",
    "        if creds and creds.expired and creds.refresh_token:\n",
    "            creds.refresh(Request())\n",
    "        else:\n",
    "            flow = InstalledAppFlow.from_client_secrets_file('credentials.json', SCOPES)\n",
    "            creds = flow.run_local_server(port=0)\n",
    "        with open('token.pickle', 'wb') as token:\n",
    "            pickle.dump(creds, token)\n",
    "\n",
    "    service = build('sheets', 'v4', credentials=creds)\n",
    "\n",
    "    sheet = service.spreadsheets()\n",
    "    result = sheet.values().get(spreadsheetId=SPREADSHEET_ID, range=RANGE_NAME).execute()\n",
    "    values = result.get('values', [])\n",
    "\n",
    "    if not values:\n",
    "        print('No data found.')\n",
    "    \n",
    "    return values\n",
    "\n",
    "data = get_data()"
   ]
  },
  {
   "cell_type": "markdown",
   "metadata": {},
   "source": [
    "## Обработка данных в Pandas\n",
    "\n",
    "Создаем датафрейм. Удаляем те строки, что не относятся к датасету (комментарии в конце файла)"
   ]
  },
  {
   "cell_type": "code",
   "execution_count": 3,
   "metadata": {},
   "outputs": [],
   "source": [
    "df = pd.DataFrame.from_records(data)\n",
    "headers = df.iloc[0]  # Названия столбцов содержатся в нулевой строке таблицы\n",
    "df = pd.DataFrame(df.values[1:], columns=headers)\n",
    "df = df.set_index('№') # Номер строки соответствует номеру воспоминания"
   ]
  },
  {
   "cell_type": "markdown",
   "metadata": {},
   "source": [
    "Все столбцы датасета:"
   ]
  },
  {
   "cell_type": "code",
   "execution_count": 4,
   "metadata": {
    "scrolled": false
   },
   "outputs": [
    {
     "name": "stdout",
     "output_type": "stream",
     "text": [
      "Имя\n",
      "Name\n",
      "Воспоминание\n",
      "Translation\n",
      "Translation footnote\n",
      "Пол\n",
      "Кол-во\n",
      "Возраст\n",
      "Ориентир возраста\n",
      "Лица\n",
      "Предметы\n",
      "Цвета\n",
      "Звуки\n",
      "Запахи, вкус\n",
      "Другие ощущения\n",
      "Сущности\n",
      "Пространство\n",
      "Время дня\n",
      "Время года\n",
      "Поведение\n",
      "Комментарий\n"
     ]
    }
   ],
   "source": [
    "for column in df.columns:\n",
    "    print(column)\n",
    "    \n",
    "not_quant_cols = ['Translation', 'Translation footnote', 'Комментарий']"
   ]
  },
  {
   "cell_type": "code",
   "execution_count": 5,
   "metadata": {
    "scrolled": false
   },
   "outputs": [
    {
     "name": "stdout",
     "output_type": "stream",
     "text": [
      "41 записи столбца \"Кол-во\" пусты: ['217', '222', '226', '232', '238', '240', '241', '242', '243', '244', '245', '246', '247', '248', '249', '250', '252', '253', '254', '256', '257', '258', '260', '263', '265', '266', '293', '323', '343', '356', '385', '407', '423', '426', '476', '512', '515', '537', '554', '599', '614']\n"
     ]
    }
   ],
   "source": [
    "def col_empty_cells(col_name:str):\n",
    "    \"\"\"Находит пустые и NoneType ячейки столбца с именем col_name\"\"\"\n",
    "    none_cells = df[col_name][~df[col_name].notna()].index\n",
    "    empty_cells = df[col_name][df[col_name]==''].index\n",
    "    ids = sorted(list(set(none_cells) | set(empty_cells)))\n",
    "    return ids\n",
    "\n",
    "col_name = 'Кол-во'\n",
    "ids = col_empty_cells(col_name)\n",
    "print('{0} записи столбца \"{1}\" пусты: {2}'.format(len(ids), col_name, list(ids)))"
   ]
  },
  {
   "cell_type": "code",
   "execution_count": 6,
   "metadata": {},
   "outputs": [],
   "source": [
    "def percent():\n",
    "    empty_count = 0\n",
    "    for col_name in df.columns:\n",
    "        if col_name not in not_quant_cols:\n",
    "            number = len(col_empty_cells(col_name))\n",
    "            print(col_name, number)\n",
    "            empty_count += number\n",
    "    p = 100*(1-empty_count/(df.size-len(df)*len(not_quant_cols)))\n",
    "    print(\"Доля частично или полно обработанных ячеек составляет {0:.1f}%\".format(p))"
   ]
  },
  {
   "cell_type": "code",
   "execution_count": 7,
   "metadata": {},
   "outputs": [
    {
     "name": "stdout",
     "output_type": "stream",
     "text": [
      "Имя 0\n",
      "Name 2\n",
      "Воспоминание 1\n",
      "Пол 0\n",
      "Кол-во 41\n",
      "Возраст 88\n",
      "Ориентир возраста 379\n",
      "Лица 200\n",
      "Предметы 374\n",
      "Цвета 357\n",
      "Звуки 377\n",
      "Запахи, вкус 389\n",
      "Другие ощущения 388\n",
      "Сущности 387\n",
      "Пространство 378\n",
      "Время дня 391\n",
      "Время года 370\n",
      "Поведение 387\n",
      "Доля частично или полно обработанных ячеек составляет 61.2%\n"
     ]
    }
   ],
   "source": [
    "percent()"
   ]
  }
 ],
 "metadata": {
  "kernelspec": {
   "display_name": "Python 3",
   "language": "python",
   "name": "python3"
  },
  "language_info": {
   "codemirror_mode": {
    "name": "ipython",
    "version": 3
   },
   "file_extension": ".py",
   "mimetype": "text/x-python",
   "name": "python",
   "nbconvert_exporter": "python",
   "pygments_lexer": "ipython3",
   "version": "3.6.8"
  }
 },
 "nbformat": 4,
 "nbformat_minor": 2
}
